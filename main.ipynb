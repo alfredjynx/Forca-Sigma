{
 "cells": [
  {
   "cell_type": "code",
   "execution_count": 65,
   "metadata": {},
   "outputs": [],
   "source": [
    "\n",
    "\n",
    "def filtra_palavras(lista, palavra_secreta):\n",
    "    lista = [x for x in lista if len(x) == len(palavra_secreta)]\n",
    "\n",
    "    # dictionary with the letters and their frequency\n",
    "    frequencia_letras_palavra_secreta = {}\n",
    "    for letter in palavra_secreta:\n",
    "        if letter in frequencia_letras_palavra_secreta:\n",
    "            frequencia_letras_palavra_secreta[letter] += 1\n",
    "        elif letter != \"_\":\n",
    "            frequencia_letras_palavra_secreta[letter] = 1\n",
    "    \n",
    "\n",
    "    # remove word that letters not in the same position as the secret word\n",
    "\n",
    "    for palavra in lista:\n",
    "        for idx in range(len(palavra_secreta)):\n",
    "            if palavra_secreta[idx] != \"_\":\n",
    "                if palavra_secreta[idx] != palavra[idx]:\n",
    "                    lista.remove(palavra)\n",
    "                    break\n",
    "\n",
    "        \n",
    "    for palavra_da_lista in lista:\n",
    "        freq_palavra_lista = {}\n",
    "\n",
    "        for letter in palavra_da_lista:\n",
    "            if letter in freq_palavra_lista:\n",
    "                freq_palavra_lista[letter] += 1\n",
    "            else:\n",
    "                freq_palavra_lista[letter] = 1\n",
    "\n",
    "        \n",
    "        for letra in frequencia_letras_palavra_secreta.keys():\n",
    "            if frequencia_letras_palavra_secreta[letra] != freq_palavra_lista[letra]:\n",
    "                lista.remove(palavra_da_lista)\n",
    "                break\n",
    "\n",
    "\n",
    "    return lista\n",
    "\n",
    "pal = [\"marcelo\", \"oarcelo\", \"thomaz\", \"arthur\", \"matheus\", \"carlos\"]\n",
    "teste = \"o____lo\"\n",
    "\n"
   ]
  },
  {
   "cell_type": "code",
   "execution_count": 66,
   "metadata": {},
   "outputs": [
    {
     "data": {
      "text/plain": [
       "['oarcelo']"
      ]
     },
     "execution_count": 66,
     "metadata": {},
     "output_type": "execute_result"
    }
   ],
   "source": [
    "filtra_palavras(pal, teste)"
   ]
  },
  {
   "cell_type": "code",
   "execution_count": null,
   "metadata": {},
   "outputs": [],
   "source": []
  }
 ],
 "metadata": {
  "kernelspec": {
   "display_name": "Python 3",
   "language": "python",
   "name": "python3"
  },
  "language_info": {
   "codemirror_mode": {
    "name": "ipython",
    "version": 3
   },
   "file_extension": ".py",
   "mimetype": "text/x-python",
   "name": "python",
   "nbconvert_exporter": "python",
   "pygments_lexer": "ipython3",
   "version": "3.11.1"
  },
  "orig_nbformat": 4
 },
 "nbformat": 4,
 "nbformat_minor": 2
}
