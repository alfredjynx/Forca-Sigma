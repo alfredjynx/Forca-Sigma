{
 "cells": [
  {
   "cell_type": "code",
   "execution_count": 7,
   "metadata": {},
   "outputs": [],
   "source": [
    "import matplotlib.pyplot as plt\n",
    "import numpy as np\n",
    "import scipy.stats as stats\n",
    "from Forca import Forca\n",
    "import pandas as pd"
   ]
  },
  {
   "attachments": {},
   "cell_type": "markdown",
   "metadata": {},
   "source": [
    "## Guardando as Palavras em Arquivo"
   ]
  },
  {
   "cell_type": "code",
   "execution_count": 8,
   "metadata": {},
   "outputs": [],
   "source": [
    "import requests\n",
    "url = 'https://www.ime.usp.br/~pf/dicios/br-sem-acentos.txt'\n",
    "r = requests.get(url, allow_redirects=True)\n",
    "if r.status_code==200:\n",
    "    content = str(r.content.decode()).split('\\n')\n",
    "else:\n",
    "    print(\"Erro: \", r.status_code)"
   ]
  },
  {
   "cell_type": "code",
   "execution_count": 9,
   "metadata": {},
   "outputs": [],
   "source": [
    "df = pd.DataFrame({'Palavras':content})\n",
    "df.to_csv('palavras.csv')"
   ]
  },
  {
   "attachments": {},
   "cell_type": "markdown",
   "metadata": {},
   "source": [
    "## Código de Huffman - Exemplo"
   ]
  },
  {
   "cell_type": "code",
   "execution_count": 10,
   "metadata": {},
   "outputs": [
    {
     "data": {
      "text/plain": [
       "6.068425588244111"
      ]
     },
     "execution_count": 10,
     "metadata": {},
     "output_type": "execute_result"
    }
   ],
   "source": [
    "import numpy as np\n",
    "import scipy.stats as stats\n",
    "palavra = \"BANANA\"\n",
    "probs = np.array(  [palavra.count(w) for w in set(palavra)])/len(palavra)\n",
    "E = stats.entropy(probs)\n",
    "E*len(palavra)"
   ]
  },
  {
   "attachments": {},
   "cell_type": "markdown",
   "metadata": {},
   "source": [
    "## Jogo de Forca - Exemplo"
   ]
  },
  {
   "attachments": {},
   "cell_type": "markdown",
   "metadata": {},
   "source": [
    "O jogo de Forca nos dá algumas informações logo de cara. Quando iniciamos um novo jogo, a Classe retorna o número de letras da palavra sorteada. Podemos também ter acesso as vidas que temos ao realizar `jogo.vidas`. Nese exemplo, acessamos o `jogo.palavra` para mostrar a palavra que foi sorteada, mas ele não é utilizado ao jogar (para manter a graça do jogo)."
   ]
  },
  {
   "cell_type": "code",
   "execution_count": 11,
   "metadata": {},
   "outputs": [
    {
     "name": "stdout",
     "output_type": "stream",
     "text": [
      "8\n",
      "diretivo\n",
      "5\n"
     ]
    }
   ],
   "source": [
    "# iniciando o jogo\n",
    "jogo = Forca()\n",
    "print(jogo.novo_jogo())\n",
    "print(jogo.palavra)\n",
    "print(jogo.vidas)"
   ]
  },
  {
   "attachments": {},
   "cell_type": "markdown",
   "metadata": {},
   "source": [
    "Aqui temos uma demonstração de como chutar letras. Utilizamos a função `jogo.tentar_letra(n)` onde n é a letra a ser chutada em formato de string. A função retorna o uma lista com as posições da letra na palavra. Se a lista estiver vazia, a letra não existe na palavra e o jogador perde uma vida.\n",
    "\n",
    "Ao final, se não houverem mais vidas, uma mensagem de \"Fim de Jogo\" aparece na saída do terminal. "
   ]
  },
  {
   "cell_type": "code",
   "execution_count": 12,
   "metadata": {},
   "outputs": [
    {
     "name": "stdout",
     "output_type": "stream",
     "text": [
      "[]\n",
      "[]\n",
      "[]\n",
      "2\n"
     ]
    }
   ],
   "source": [
    "# jogando - chutando letras\n",
    "print(jogo.tentar_letra('b'))\n",
    "print(jogo.tentar_letra('a'))\n",
    "print(jogo.tentar_letra('w'))\n",
    "\n",
    "print(jogo.vidas)"
   ]
  }
 ],
 "metadata": {
  "kernelspec": {
   "display_name": "Python 3",
   "language": "python",
   "name": "python3"
  },
  "language_info": {
   "codemirror_mode": {
    "name": "ipython",
    "version": 3
   },
   "file_extension": ".py",
   "mimetype": "text/x-python",
   "name": "python",
   "nbconvert_exporter": "python",
   "pygments_lexer": "ipython3",
   "version": "3.11.1"
  },
  "orig_nbformat": 4
 },
 "nbformat": 4,
 "nbformat_minor": 2
}
