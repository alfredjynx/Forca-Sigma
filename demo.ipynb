{
 "cells": [
  {
   "cell_type": "code",
   "execution_count": 7,
   "metadata": {},
   "outputs": [],
   "source": [
    "import matplotlib.pyplot as plt\n",
    "import numpy as np\n",
    "import scipy.stats as stats\n",
    "from JogoDeForca import JogoDeForca\n",
    "import pandas as pd"
   ]
  },
  {
   "attachments": {},
   "cell_type": "markdown",
   "metadata": {},
   "source": [
    "## Código de Huffman - Exemplo"
   ]
  },
  {
   "cell_type": "code",
   "execution_count": 2,
   "metadata": {},
   "outputs": [
    {
     "data": {
      "text/plain": [
       "6.068425588244111"
      ]
     },
     "execution_count": 2,
     "metadata": {},
     "output_type": "execute_result"
    }
   ],
   "source": [
    "import numpy as np\n",
    "import scipy.stats as stats\n",
    "palavra = \"BANANA\"\n",
    "probs = np.array(  [palavra.count(w) for w in set(palavra)])/len(palavra)\n",
    "E = stats.entropy(probs)\n",
    "E*len(palavra)"
   ]
  },
  {
   "attachments": {},
   "cell_type": "markdown",
   "metadata": {},
   "source": [
    "## Jogo de Forca - Exemplo"
   ]
  },
  {
   "cell_type": "code",
   "execution_count": 24,
   "metadata": {},
   "outputs": [
    {
     "name": "stdout",
     "output_type": "stream",
     "text": [
      "9\n",
      "espargido\n",
      "5\n"
     ]
    }
   ],
   "source": [
    "# iniciando o jogo\n",
    "jogo = JogoDeForca()\n",
    "print(jogo.novo_jogo())\n",
    "print(jogo.palavra)\n",
    "print(jogo.vidas)"
   ]
  },
  {
   "cell_type": "code",
   "execution_count": 15,
   "metadata": {},
   "outputs": [
    {
     "name": "stdout",
     "output_type": "stream",
     "text": [
      "[4]\n",
      "[0, 5]\n",
      "[]\n",
      "4\n"
     ]
    }
   ],
   "source": [
    "# jogando - chutando letras\n",
    "print(jogo.tentar_letra('b'))\n",
    "print(jogo.tentar_letra('a'))\n",
    "print(jogo.tentar_letra('w'))\n",
    "print(jogo.vidas)"
   ]
  }
 ],
 "metadata": {
  "kernelspec": {
   "display_name": "Python 3",
   "language": "python",
   "name": "python3"
  },
  "language_info": {
   "codemirror_mode": {
    "name": "ipython",
    "version": 3
   },
   "file_extension": ".py",
   "mimetype": "text/x-python",
   "name": "python",
   "nbconvert_exporter": "python",
   "pygments_lexer": "ipython3",
   "version": "3.10.2"
  },
  "orig_nbformat": 4
 },
 "nbformat": 4,
 "nbformat_minor": 2
}
